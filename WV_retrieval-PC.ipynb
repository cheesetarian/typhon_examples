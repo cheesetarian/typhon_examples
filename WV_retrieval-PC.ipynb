{
 "cells": [
  {
   "cell_type": "code",
   "execution_count": 1,
   "metadata": {
    "collapsed": true
   },
   "outputs": [],
   "source": [
    "# Example water vapor retrieval with ATMS sensor, using\n",
    "#  ARTS OEM solver and principal components.\n",
    "#\n",
    "# Simon Pfreundschuh and David Duncan, Chalmers University"
   ]
  },
  {
   "cell_type": "markdown",
   "metadata": {},
   "source": [
    "# Set up ARTS/Python environment\n"
   ]
  },
  {
   "cell_type": "code",
   "execution_count": 2,
   "metadata": {},
   "outputs": [
    {
     "name": "stdout",
     "output_type": "stream",
     "text": [
      "env: ARTS_INCLUDE_PATH=/home/dudavid/arts/controlfiles/\n",
      "env: ARTS_DATA_PATH=/home/dudavid/arts/arts-xml/\n",
      "env: ARTS_BUILD_PATH=/home/dudavid/arts/build/\n",
      "Loading ARTS API from: /home/dudavid/arts/build//src/arts_api.so\n"
     ]
    }
   ],
   "source": [
    "%env ARTS_INCLUDE_PATH=/home/dudavid/arts/controlfiles/\n",
    "%env ARTS_DATA_PATH=/home/dudavid/arts/arts-xml/\n",
    "%env ARTS_BUILD_PATH=/home/dudavid/arts/build/\n",
    "\n",
    "%matplotlib inline\n",
    "import numpy as np\n",
    "import matplotlib.pyplot as plt\n",
    "\n",
    "from typhon.arts.workspace import Workspace, arts_agenda\n",
    "ws = Workspace()\n",
    "ws.execute_controlfile(\"general/general.arts\")\n",
    "ws.execute_controlfile(\"general/continua.arts\")\n",
    "ws.execute_controlfile(\"general/agendas.arts\")\n",
    "ws.execute_controlfile(\"general/planet_earth.arts\")"
   ]
  },
  {
   "cell_type": "code",
   "execution_count": 3,
   "metadata": {
    "collapsed": true
   },
   "outputs": [],
   "source": [
    "# define absorbing species and sensor (here using metmm library, used again below)\n",
    "ws.Copy(ws.abs_xsec_agenda, ws.abs_xsec_agenda__noCIA)\n",
    "ws.abs_speciesSet(species=[\"H2O-PWR98\",\"O2-PWR93\",\"N2-SelfContStandardType\"])\n",
    "ws.ReadXML( ws.abs_lines, \"instruments/metmm/abs_lines_metmm.xml.gz\")\n",
    "ws.abs_lines_per_speciesCreateFromLines()"
   ]
  },
  {
   "cell_type": "markdown",
   "metadata": {},
   "source": [
    "# General Settings"
   ]
  },
  {
   "cell_type": "code",
   "execution_count": 4,
   "metadata": {
    "collapsed": true
   },
   "outputs": [],
   "source": [
    "ws.stokes_dim = 1\n",
    "ws.iy_unit = \"PlanckBT\"\n",
    "ws.cloudboxOff()"
   ]
  },
  {
   "cell_type": "markdown",
   "metadata": {
    "collapsed": true
   },
   "source": [
    "# Atmosphere set up"
   ]
  },
  {
   "cell_type": "code",
   "execution_count": 5,
   "metadata": {},
   "outputs": [
    {
     "data": {
      "text/plain": [
       "<matplotlib.text.Text at 0x7f0b5cd181d0>"
      ]
     },
     "execution_count": 5,
     "metadata": {},
     "output_type": "execute_result"
    },
    {
     "data": {
      "image/png": "[encoded data removed]",
      "text/plain": [
       "<matplotlib.figure.Figure at 0x7f0b6007beb8>"
      ]
     },
     "metadata": {},
     "output_type": "display_data"
    }
   ],
   "source": [
    "ws.atmosphere_dim = 1  # for 1DVAR\n",
    "#ws.VectorNLogSpace( ws.p_grid, 20, 1e5, 1e4 ) # 20 levels from 1000 to 100 hPa\n",
    "p = np.array([1000.,975.,950.,925.,900.,850.,800.,750.,700.,650.,600.,550.,500.,400.,300.,200.,100.])*100.0\n",
    "ws.p_grid = 0.5 * (p[1:] + p[:-1])\n",
    "ws.AtmRawRead( basename = \"planets/Earth/Fascod/tropical/tropical\") #tropical atmosphere assumed\n",
    "ws.AtmFieldsCalc()\n",
    "ws.AbsInputFromAtmFields()\n",
    "\n",
    "ws.z_surface = np.asarray(ws.z_field)[0]\n",
    "ws.t_surface = np.asarray(ws.t_field)[0]\n",
    "\n",
    "# plot T, water vapor, N2 and O2 versus altitude\n",
    "\n",
    "#plt.plot(np.asarray(ws.t_field).ravel(), alt\n",
    "alt = np.asarray(ws.z_field).ravel() * .001 # altitude in km (for plotting)\n",
    "#plt.xlabel(\"T [K]\")\n",
    "#plt.ylabel(\"z [km]\")\n",
    "plt.plot(np.asarray(ws.vmr_field)[0,:,0,0], alt)\n",
    "plt.xlabel(\"$H_2O [mol/mol$]\")\n",
    "plt.ylabel(\"z [km]\")\n",
    "#plt.plot(np.asarray(ws.vmr_field)[1,:,0,0], alt, label=\"$O_2$\")\n",
    "#plt.plot(np.asarray(ws.vmr_field)[2,:,0,0], alt, label=\"$N_2$\")\n",
    "#plt.xlabel(\"vmr [mol / mol]\")\n",
    "#plt.ylabel(\"z [km]\")\n",
    "#plt.legend()"
   ]
  },
  {
   "cell_type": "markdown",
   "metadata": {},
   "source": [
    "# Sensor definition"
   ]
  },
  {
   "cell_type": "code",
   "execution_count": 6,
   "metadata": {
    "collapsed": true
   },
   "outputs": [],
   "source": [
    "ws.ArrayOfIndexCreate(\"channels\")\n",
    "ws.channels = [17,18,19,20,21] # channel index values given in metmm sensor description\n",
    "ws.ArrayOfIndexCreate(\"viewing_angles\")\n",
    "ws.viewing_angles = [47] # index of stored viewing angles in metmm file\n",
    "\n",
    "ws.sensor_pos  = np.array([[850e3]]) # 850km\n",
    "ws.sensor_time = np.array([0.0])\n",
    "ws.sensor_los  = np.array([[180.0]]) # nadir viewing\n",
    "\n",
    "ws.IndexCreate(\"met_mm_accuracy\") \n",
    "ws.met_mm_accuracy = 1 # points within each bandwidth to comute abs characteristics\n",
    "\n",
    "ws.execute_controlfile(\"instruments/metmm/sensor_descriptions/prepare_metmm.arts\")\n",
    "ws.execute_controlfile(\"instruments/metmm/sensor_descriptions/sensor_atms.arts\")\n",
    "ws.execute_controlfile(\"instruments/metmm/sensor_descriptions/apply_metmm.arts\")\n",
    "ws.execute_controlfile(\"instruments/metmm/common_metmm.arts\")"
   ]
  },
  {
   "cell_type": "code",
   "execution_count": 7,
   "metadata": {
    "collapsed": true
   },
   "outputs": [],
   "source": [
    "ws.atmfields_checkedCalc( bad_partition_functions_ok = 1 )\n",
    "ws.abs_xsec_agenda_checkedCalc()\n",
    "ws.abs_lookupSetup()\n",
    "ws.abs_lookupCalc()"
   ]
  },
  {
   "cell_type": "markdown",
   "metadata": {},
   "source": [
    "# Surface \n"
   ]
  },
  {
   "cell_type": "code",
   "execution_count": 8,
   "metadata": {
    "collapsed": true
   },
   "outputs": [],
   "source": [
    "ws.surface_scalar_reflectivity = np.array([0.5]) # nominal albedo for surface\n",
    "ws.propmat_clearsky_agenda_checkedCalc()\n",
    "ws.atmgeom_checkedCalc()\n",
    "ws.cloudbox_checkedCalc()\n",
    "ws.sensor_checkedCalc()\n",
    "ws.jacobianOff()"
   ]
  },
  {
   "cell_type": "markdown",
   "metadata": {},
   "source": [
    "# Call forward model"
   ]
  },
  {
   "cell_type": "code",
   "execution_count": 9,
   "metadata": {},
   "outputs": [
    {
     "data": {
      "text/plain": [
       "array([ 276.92856134,  270.37567794,  264.02072366,  256.46135151,\n",
       "        249.86219702])"
      ]
     },
     "execution_count": 9,
     "metadata": {},
     "output_type": "execute_result"
    }
   ],
   "source": [
    "ws.yCalc()\n",
    "ws.y.value # write out TBs for first ycalc"
   ]
  },
  {
   "cell_type": "code",
   "execution_count": 10,
   "metadata": {
    "collapsed": true
   },
   "outputs": [],
   "source": [
    "# now perturb the initial VMR field for water vapor\n",
    "if not \"orig_h2o\" in globals().keys():\n",
    "    orig_h2o = np.array(ws.vmr_field)[0,:,0,0] # save original WV profile (true state)\n",
    "#np.asarray(ws.vmr_field)[0,:,0,0] = orig_h2o * 1.19 # perturb by x% at all layers\n",
    "#perturbed = np.copy(ws.vmr_field)[0,:,0,0] # save as 'perturbed' -- will form apriori state\n",
    "\n"
   ]
  },
  {
   "cell_type": "markdown",
   "metadata": {},
   "source": [
    "# Set up PCs for retrieval"
   ]
  },
  {
   "cell_type": "code",
   "execution_count": 11,
   "metadata": {},
   "outputs": [
    {
     "name": "stdout",
     "output_type": "stream",
     "text": [
      "[  3.35813308e-03   3.71662270e-03   4.69145980e-03   5.56035941e-03\n",
      "   5.81604674e-03   5.43688090e-03   4.49387811e-03   3.40332814e-03\n",
      "   2.46313899e-03   1.66043222e-03   1.03025451e-03   5.82146500e-04\n",
      "   2.08316925e-04   3.20347946e-05   2.29510853e-06   2.62766445e-08]\n"
     ]
    },
    {
     "data": {
      "text/plain": [
       "<matplotlib.legend.Legend at 0x7f0b5c135e48>"
      ]
     },
     "execution_count": 11,
     "metadata": {},
     "output_type": "execute_result"
    },
    {
     "data": {
      "image/png": "[encoded data removed]",
      "text/plain": [
       "<matplotlib.figure.Figure at 0x7f0b5ca4d518>"
      ]
     },
     "metadata": {},
     "output_type": "display_data"
    },
    {
     "data": {
      "image/png": "[encoded data removed]",
      "text/plain": [
       "<matplotlib.figure.Figure at 0x7f0b5c143c88>"
      ]
     },
     "metadata": {},
     "output_type": "display_data"
    }
   ],
   "source": [
    "invar = np.loadtxt(\"pcs.txt\") # read in PCs from ascii file\n",
    "meanwv = invar[0:16][::-1] # invert profiles to fit fwd model\n",
    "#A = invar[16:][::-1].reshape(6,16)\n",
    "A = invar[16:].reshape(6,16)\n",
    "factor = 28.966/18.016 * 0.001 # convert WV mixing ratio (g/kg) to vmr (mol/mol)\n",
    "PCs = A[:,::-1] * factor\n",
    "print(PCs[0,:])\n",
    "meanwv *= factor\n",
    "perturbed = meanwv # a priori state is mean profile of PCA\n",
    "for i in range(3): # plot first x PCs\n",
    "    plt.plot(PCs[i,:],alt,label=\"WV PC\"+str(i+1))\n",
    "plt.legend()\n",
    "\n",
    "plt.figure()\n",
    "plt.plot(orig_h2o.ravel(), alt, label=\"True state\")\n",
    "plt.plot(perturbed, alt, label=\"Perturbed (Prior)\")\n",
    "plt.xlabel(\"$H_2O [kg / m^3$]\")\n",
    "plt.ylabel(\"z [km]\")\n",
    "plt.legend()"
   ]
  },
  {
   "cell_type": "markdown",
   "metadata": {},
   "source": [
    "# Set up OEM retrieval"
   ]
  },
  {
   "cell_type": "code",
   "execution_count": 12,
   "metadata": {
    "collapsed": true
   },
   "outputs": [],
   "source": [
    "ws.retrievalDefInit()\n",
    "nelem = ws.p_grid.value.size\n",
    "rvars = np.ones(nelem)*1e1   # define apriori variances of retrieved variables\n",
    "ws.covmatSetDiagonal(rvars)\n",
    "ws.retrievalAddAbsSpecies(   # only retrieval variable is abs species, water vapor\n",
    " species=\"H2O-PWR98\",\n",
    " unit=\"logrel\",\n",
    " g1=ws.p_grid,\n",
    " g2=ws.lat_grid,\n",
    " g3=ws.lon_grid\n",
    ")\n",
    "ws.addTransformation(transformation_matrix=A, offset_vector=meanwv)\n",
    "se_cov = np.zeros(ws.y.value.size) + 0.5**2 # set channel assumed errors\n",
    "ws.covmatSetDiagonal(se_cov) # diagonal (uncorrelated) errors only for now\n",
    "ws.covmat_seSet()\n",
    "ws.retrievalDefClose()\n",
    "\n",
    "# define inversion iteration as function object within python\n",
    "@arts_agenda\n",
    "def inversion_iterate_agenda(ws):\n",
    "    ws.x2artsStandard()  # map x to ARTS's variables\n",
    "    ws.atmfields_checkedCalc()  # to be safe, rerun checks dealing with atmosph.\n",
    "    ws.atmgeom_checkedCalc()\n",
    "    ws.yCalc()  # calculate yf and jacobian matching x\n",
    "    ws.VectorAddVector( ws.yf, ws.y, ws.y_baseline )  # add baseline term\n",
    "    ws.jacobianAdjustAfterIteration() \n",
    "    # last line takes care of some fixes needed to get the jacobian right for iterative solutions\n",
    "    \n",
    "ws.Copy(ws.inversion_iterate_agenda, inversion_iterate_agenda) # copy python function to arts\n",
    "    \n",
    "#ws.xaStandard() # set xa to vmr field, effectively \n",
    "ws.xa = np.zeros(6) # if supplying user-defined a priori vector\n",
    "ws.x = np.array([]) # create empty vector for retrieved state vector?\n",
    "ws.yf = np.array([]) # create empty vector for simulated TB?\n",
    "ws.jacobian = np.array([[]])\n"
   ]
  },
  {
   "cell_type": "markdown",
   "metadata": {},
   "source": [
    "# Run OEM retrieval"
   ]
  },
  {
   "cell_type": "code",
   "execution_count": 13,
   "metadata": {},
   "outputs": [
    {
     "ename": "Exception",
     "evalue": "Call to ARTS WSM OEM failed with error: Inconsistency in size between *x* and *covmat_sx*.",
     "output_type": "error",
     "traceback": [
      "\u001b[0;31m---------------------------------------------------------------------------\u001b[0m",
      "\u001b[0;31mException\u001b[0m                                 Traceback (most recent call last)",
      "\u001b[0;32m<ipython-input-13-a8de36e15901>\u001b[0m in \u001b[0;36m<module>\u001b[0;34m()\u001b[0m\n\u001b[1;32m      3\u001b[0m     \u001b[0mdisplay_progress\u001b[0m\u001b[0;34m=\u001b[0m\u001b[0;36m1\u001b[0m\u001b[0;34m,\u001b[0m\u001b[0;34m\u001b[0m\u001b[0m\n\u001b[1;32m      4\u001b[0m     \u001b[0mmax_start_cost\u001b[0m\u001b[0;34m=\u001b[0m\u001b[0;36m1e3\u001b[0m\u001b[0;34m,\u001b[0m\u001b[0;34m\u001b[0m\u001b[0m\n\u001b[0;32m----> 5\u001b[0;31m     \u001b[0mlm_ga_settings\u001b[0m\u001b[0;34m=\u001b[0m\u001b[0mnp\u001b[0m\u001b[0;34m.\u001b[0m\u001b[0marray\u001b[0m\u001b[0;34m(\u001b[0m\u001b[0;34m[\u001b[0m\u001b[0;36m10.0\u001b[0m\u001b[0;34m,\u001b[0m\u001b[0;36m2.0\u001b[0m\u001b[0;34m,\u001b[0m\u001b[0;36m2.0\u001b[0m\u001b[0;34m,\u001b[0m\u001b[0;36m100.0\u001b[0m\u001b[0;34m,\u001b[0m\u001b[0;36m1.0\u001b[0m\u001b[0;34m,\u001b[0m\u001b[0;36m99.0\u001b[0m\u001b[0;34m]\u001b[0m\u001b[0;34m)\u001b[0m\u001b[0;34m\u001b[0m\u001b[0m\n\u001b[0m\u001b[1;32m      6\u001b[0m        )\n\u001b[1;32m      7\u001b[0m \u001b[0mws\u001b[0m\u001b[0;34m.\u001b[0m\u001b[0mx2artsStandard\u001b[0m\u001b[0;34m(\u001b[0m\u001b[0;34m)\u001b[0m \u001b[0;31m# convert from ARTS coords back to user-defined grid\u001b[0m\u001b[0;34m\u001b[0m\u001b[0m\n",
      "\u001b[0;32m/home/dudavid/src/typhon/typhon/arts/workspace/workspace.py\u001b[0m in \u001b[0;36m<lambda>\u001b[0;34m(*args, **kwargs)\u001b[0m\n\u001b[1;32m    145\u001b[0m             \u001b[0mm\u001b[0m \u001b[0;34m=\u001b[0m \u001b[0mworkspace_methods\u001b[0m\u001b[0;34m[\u001b[0m\u001b[0mname\u001b[0m\u001b[0;34m]\u001b[0m\u001b[0;34m\u001b[0m\u001b[0m\n\u001b[1;32m    146\u001b[0m             \u001b[0;32mdef\u001b[0m \u001b[0mmake_fun\u001b[0m\u001b[0;34m(\u001b[0m\u001b[0mmethod\u001b[0m\u001b[0;34m)\u001b[0m\u001b[0;34m:\u001b[0m\u001b[0;34m\u001b[0m\u001b[0m\n\u001b[0;32m--> 147\u001b[0;31m                 \u001b[0;32mreturn\u001b[0m \u001b[0;32mlambda\u001b[0m \u001b[0;34m*\u001b[0m\u001b[0margs\u001b[0m\u001b[0;34m,\u001b[0m \u001b[0;34m**\u001b[0m\u001b[0mkwargs\u001b[0m\u001b[0;34m:\u001b[0m \u001b[0mmethod\u001b[0m\u001b[0;34m.\u001b[0m\u001b[0mcall\u001b[0m\u001b[0;34m(\u001b[0m\u001b[0mself\u001b[0m\u001b[0;34m,\u001b[0m \u001b[0;34m*\u001b[0m\u001b[0margs\u001b[0m\u001b[0;34m,\u001b[0m \u001b[0;34m**\u001b[0m\u001b[0mkwargs\u001b[0m\u001b[0;34m)\u001b[0m\u001b[0;34m\u001b[0m\u001b[0m\n\u001b[0m\u001b[1;32m    148\u001b[0m             \u001b[0msetattr\u001b[0m\u001b[0;34m(\u001b[0m\u001b[0mself\u001b[0m\u001b[0;34m,\u001b[0m \u001b[0mm\u001b[0m\u001b[0;34m.\u001b[0m\u001b[0mname\u001b[0m\u001b[0;34m,\u001b[0m \u001b[0mmake_fun\u001b[0m\u001b[0;34m(\u001b[0m\u001b[0mm\u001b[0m\u001b[0;34m)\u001b[0m\u001b[0;34m)\u001b[0m\u001b[0;34m\u001b[0m\u001b[0m\n\u001b[1;32m    149\u001b[0m             \u001b[0mgetattr\u001b[0m\u001b[0;34m(\u001b[0m\u001b[0mself\u001b[0m\u001b[0;34m,\u001b[0m \u001b[0mm\u001b[0m\u001b[0;34m.\u001b[0m\u001b[0mname\u001b[0m\u001b[0;34m)\u001b[0m\u001b[0;34m.\u001b[0m\u001b[0m__doc__\u001b[0m \u001b[0;34m=\u001b[0m \u001b[0mm\u001b[0m\u001b[0;34m.\u001b[0m\u001b[0mdescription\u001b[0m\u001b[0;34m\u001b[0m\u001b[0m\n",
      "\u001b[0;32m/home/dudavid/src/typhon/typhon/arts/workspace/methods.py\u001b[0m in \u001b[0;36mcall\u001b[0;34m(*args, **kwargs)\u001b[0m\n\u001b[1;32m    352\u001b[0m         \u001b[0;32mif\u001b[0m \u001b[0;34m(\u001b[0m\u001b[0me_ptr\u001b[0m\u001b[0;34m)\u001b[0m\u001b[0;34m:\u001b[0m\u001b[0;34m\u001b[0m\u001b[0m\n\u001b[1;32m    353\u001b[0m             raise Exception(\"Call to ARTS WSM \" + self.name + \" failed with error: \"\n\u001b[0;32m--> 354\u001b[0;31m                            + e_ptr.decode(\"utf8\").format())\n\u001b[0m\u001b[1;32m    355\u001b[0m \u001b[0;34m\u001b[0m\u001b[0m\n\u001b[1;32m    356\u001b[0m         \u001b[0;31m# Remove temporaries from workspace (in reverse order).\u001b[0m\u001b[0;34m\u001b[0m\u001b[0;34m\u001b[0m\u001b[0m\n",
      "\u001b[0;31mException\u001b[0m: Call to ARTS WSM OEM failed with error: Inconsistency in size between *x* and *covmat_sx*."
     ]
    }
   ],
   "source": [
    "ws.OEM(method=\"lm\",\n",
    "    max_iter=1000,\n",
    "    display_progress=1,\n",
    "    max_start_cost=1e3,\n",
    "    lm_ga_settings=np.array([10.0,2.0,2.0,100.0,1.0,99.0])\n",
    "       )\n",
    "ws.x2artsStandard() # convert from ARTS coords back to user-defined grid"
   ]
  },
  {
   "cell_type": "code",
   "execution_count": null,
   "metadata": {
    "collapsed": true
   },
   "outputs": [],
   "source": [
    "# save resultant WV profile to 'retrieved'\n",
    "retrieved = np.copy(ws.vmr_field)[0,:,0,0]"
   ]
  },
  {
   "cell_type": "markdown",
   "metadata": {},
   "source": [
    "# Look at results"
   ]
  },
  {
   "cell_type": "code",
   "execution_count": null,
   "metadata": {},
   "outputs": [],
   "source": [
    "plt.plot(orig_h2o, alt, label=\"Truth\")\n",
    "plt.plot(retrieved, alt, label=\"Retrieved\")\n",
    "plt.plot(perturbed, alt, label=\"A Priori\")\n",
    "plt.xlabel(\"$H_2O [kg / m^3$]\")\n",
    "plt.ylabel(\"z [km]\")\n",
    "#plt.xscale(\"log\")\n",
    "plt.legend()"
   ]
  },
  {
   "cell_type": "code",
   "execution_count": null,
   "metadata": {},
   "outputs": [],
   "source": [
    "# compare simulated and 'observed' TB from \n",
    "residual = ws.y.value - ws.yf.value\n",
    "residual "
   ]
  },
  {
   "cell_type": "code",
   "execution_count": null,
   "metadata": {},
   "outputs": [],
   "source": [
    "# plot jacobian -- should show sensitivity in middle troposphere\n",
    "plt.imshow(ws.jacobian)\n",
    "plt.colorbar()"
   ]
  },
  {
   "cell_type": "code",
   "execution_count": null,
   "metadata": {},
   "outputs": [],
   "source": [
    "ws.avkCalc() # calculate averaging kernel (A-matrix)\n",
    "plt.matshow(ws.avk)\n",
    "plt.colorbar()\n",
    "np.diag(ws.avk)\n",
    "sum(np.diag(ws.avk)) # print trace of A-matrix, aka degrees of freedom for signal (DFS)"
   ]
  },
  {
   "cell_type": "code",
   "execution_count": null,
   "metadata": {
    "collapsed": true
   },
   "outputs": [],
   "source": [
    "# calculate posterior covariance matrices of observations and a priori\n",
    "ws.covmat_soCalc() # observation covariance matrix\n",
    "ws.covmat_ssCalc() # smoothing covariance matrix"
   ]
  },
  {
   "cell_type": "code",
   "execution_count": null,
   "metadata": {},
   "outputs": [],
   "source": [
    "# plot posterior observation covariance matrix\n",
    "plt.matshow(ws.covmat_so)\n",
    "plt.colorbar()"
   ]
  },
  {
   "cell_type": "code",
   "execution_count": null,
   "metadata": {
    "collapsed": true
   },
   "outputs": [],
   "source": []
  }
 ],
 "metadata": {
  "kernelspec": {
   "display_name": "Python 3",
   "language": "python",
   "name": "python3"
  },
  "language_info": {
   "codemirror_mode": {
    "name": "ipython",
    "version": 3
   },
   "file_extension": ".py",
   "mimetype": "text/x-python",
   "name": "python",
   "nbconvert_exporter": "python",
   "pygments_lexer": "ipython3",
   "version": "3.6.1"
  }
 },
 "nbformat": 4,
 "nbformat_minor": 2
}
