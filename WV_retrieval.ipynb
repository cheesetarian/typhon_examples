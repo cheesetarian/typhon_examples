{
 "cells": [
  {
   "cell_type": "code",
   "execution_count": 1,
   "metadata": {},
   "outputs": [
    {
     "name": "stdout",
     "output_type": "stream",
     "text": [
      "env: ARTS_INCLUDE_PATH=/home/dudavid/arts/controlfiles/\n",
      "env: ARTS_DATA_PATH=/home/dudavid/arts/arts-xml/\n",
      "env: ARTS_BUILD_PATH=/home/dudavid/arts/build/\n",
      "Loading ARTS API from: /home/dudavid/arts/build//src/arts_api.so\n"
     ]
    }
   ],
   "source": [
    "%env ARTS_INCLUDE_PATH=/home/dudavid/arts/controlfiles/\n",
    "%env ARTS_DATA_PATH=/home/dudavid/arts/arts-xml/\n",
    "%env ARTS_BUILD_PATH=/home/dudavid/arts/build/\n",
    "\n",
    "%matplotlib inline\n",
    "import numpy as np\n",
    "import matplotlib.pyplot as plt\n",
    "\n",
    "from typhon.arts.workspace import Workspace, arts_agenda\n",
    "\n"
   ]
  },
  {
   "cell_type": "code",
   "execution_count": 2,
   "metadata": {
    "collapsed": true
   },
   "outputs": [],
   "source": [
    "ws = Workspace()\n",
    "ws.execute_controlfile(\"general/general.arts\")\n",
    "ws.execute_controlfile(\"general/continua.arts\")\n",
    "ws.execute_controlfile(\"general/agendas.arts\")\n",
    "ws.execute_controlfile(\"general/planet_earth.arts\")\n"
   ]
  },
  {
   "cell_type": "code",
   "execution_count": 3,
   "metadata": {},
   "outputs": [],
   "source": [
    "ws.Copy(ws.abs_xsec_agenda, ws.abs_xsec_agenda__noCIA)\n",
    "ws.abs_speciesSet(species=[\"H2O-PWR98\",\"O2-PWR93\",\"N2-SelfContStandardType\"])\n",
    "ws.ReadXML( ws.abs_lines, \"instruments/metmm/abs_lines_metmm.xml.gz\")\n",
    "ws.abs_lines_per_speciesCreateFromLines()"
   ]
  },
  {
   "cell_type": "markdown",
   "metadata": {},
   "source": [
    "# General Settings"
   ]
  },
  {
   "cell_type": "code",
   "execution_count": 4,
   "metadata": {},
   "outputs": [],
   "source": [
    "ws.stokes_dim = 1\n",
    "ws.iy_unit = \"PlanckBT\"\n",
    "ws.cloudboxOff()"
   ]
  },
  {
   "cell_type": "markdown",
   "metadata": {
    "collapsed": true
   },
   "source": [
    "# Atmosphere \n",
    "\n",
    "$$\n",
    "x = \\sum x_i \\\\\n",
    "$$\n"
   ]
  },
  {
   "cell_type": "code",
   "execution_count": 5,
   "metadata": {},
   "outputs": [
    {
     "data": {
      "text/plain": [
       "<matplotlib.text.Text at 0x7f1905425048>"
      ]
     },
     "execution_count": 5,
     "metadata": {},
     "output_type": "execute_result"
    },
    {
     "data": {
      "image/png": "[encoded data removed]",
      "text/plain": [
       "<matplotlib.figure.Figure at 0x7f1908781be0>"
      ]
     },
     "metadata": {},
     "output_type": "display_data"
    }
   ],
   "source": [
    "ws.atmosphere_dim = 1\n",
    "ws.VectorNLogSpace( ws.p_grid, 20, 1e5, 1e4 )\n",
    "ws.AtmRawRead( basename = \"planets/Earth/Fascod/tropical/tropical\")\n",
    "ws.AtmFieldsCalc()\n",
    "ws.AbsInputFromAtmFields()\n",
    "\n",
    "ws.z_surface = np.asarray(ws.z_field)[0]\n",
    "ws.t_surface = np.asarray(ws.t_field)[0]\n",
    "\n",
    "\n",
    "plt.plot(np.asarray(ws.t_field).ravel(), np.asarray(ws.z_field).ravel() * 1e-3)\n",
    "plt.xlabel(\"T [K]\")\n",
    "plt.ylabel(\"z [km]\")"
   ]
  },
  {
   "cell_type": "code",
   "execution_count": 6,
   "metadata": {},
   "outputs": [
    {
     "data": {
      "text/plain": [
       "<matplotlib.text.Text at 0x7f1905425518>"
      ]
     },
     "execution_count": 6,
     "metadata": {},
     "output_type": "execute_result"
    },
    {
     "data": {
      "image/png": "[encoded data removed]",
      "text/plain": [
       "<matplotlib.figure.Figure at 0x7f19087810b8>"
      ]
     },
     "metadata": {},
     "output_type": "display_data"
    }
   ],
   "source": [
    "plt.plot(np.asarray(ws.vmr_field)[0,:,0,0], np.asarray(ws.z_field).ravel() * 1e-3)\n",
    "plt.xlabel(\"$H_2O [kg / m^3$]\")\n",
    "plt.ylabel(\"z [km]\")"
   ]
  },
  {
   "cell_type": "code",
   "execution_count": 7,
   "metadata": {},
   "outputs": [
    {
     "data": {
      "text/plain": [
       "<matplotlib.text.Text at 0x7f1905031518>"
      ]
     },
     "execution_count": 7,
     "metadata": {},
     "output_type": "execute_result"
    },
    {
     "data": {
      "image/png": "[encoded data removed]",
      "text/plain": [
       "<matplotlib.figure.Figure at 0x7f1905024b00>"
      ]
     },
     "metadata": {},
     "output_type": "display_data"
    }
   ],
   "source": [
    "plt.plot(np.asarray(ws.vmr_field)[1,:,0,0], np.asarray(ws.z_field).ravel() * 1e-3, label=\"$O_2$\")\n",
    "plt.plot(np.asarray(ws.vmr_field)[2,:,0,0], np.asarray(ws.z_field).ravel() * 1e-3, label=\"$N_2$\")\n",
    "plt.xlabel(\"vmr [mol / mol]\")\n",
    "plt.ylabel(\"z [km]\")"
   ]
  },
  {
   "cell_type": "markdown",
   "metadata": {},
   "source": [
    "# Sensor"
   ]
  },
  {
   "cell_type": "code",
   "execution_count": 8,
   "metadata": {},
   "outputs": [],
   "source": [
    "ws.ArrayOfIndexCreate(\"channels\")\n",
    "ws.channels = [17,18,19,20,21]\n",
    "ws.ArrayOfIndexCreate(\"viewing_angles\")\n",
    "ws.viewing_angles = [47]\n",
    "\n",
    "ws.sensor_pos  = np.array([[850e3]])\n",
    "ws.sensor_time = np.array([0.0])\n",
    "ws.sensor_los  = np.array([[180.0]])\n",
    "\n",
    "ws.IndexCreate(\"met_mm_accuracy\")\n",
    "ws.met_mm_accuracy = 1\n",
    "\n",
    "ws.execute_controlfile(\"instruments/metmm/sensor_descriptions/prepare_metmm.arts\")\n",
    "ws.execute_controlfile(\"instruments/metmm/sensor_descriptions/sensor_atms.arts\")\n",
    "ws.execute_controlfile(\"instruments/metmm/sensor_descriptions/apply_metmm.arts\")\n",
    "ws.execute_controlfile(\"instruments/metmm/common_metmm.arts\")"
   ]
  },
  {
   "cell_type": "code",
   "execution_count": 9,
   "metadata": {},
   "outputs": [],
   "source": [
    "ws.atmfields_checkedCalc( bad_partition_functions_ok = 1 )\n",
    "ws.abs_xsec_agenda_checkedCalc()\n",
    "ws.abs_lookupSetup()\n",
    "ws.abs_lookupCalc()\n"
   ]
  },
  {
   "cell_type": "markdown",
   "metadata": {},
   "source": [
    "# Surface \n"
   ]
  },
  {
   "cell_type": "code",
   "execution_count": 10,
   "metadata": {},
   "outputs": [],
   "source": [
    "ws.surface_scalar_reflectivity = np.array([0.5])\n",
    "ws.propmat_clearsky_agenda_checkedCalc()\n",
    "ws.atmgeom_checkedCalc()\n",
    "ws.cloudbox_checkedCalc()\n",
    "ws.sensor_checkedCalc()\n",
    "ws.jacobianOff()"
   ]
  },
  {
   "cell_type": "markdown",
   "metadata": {},
   "source": [
    "# Call forward model"
   ]
  },
  {
   "cell_type": "code",
   "execution_count": 11,
   "metadata": {},
   "outputs": [
    {
     "data": {
      "text/plain": [
       "array([ 277.07307601,  270.72121556,  264.62464578,  257.43588112,\n",
       "        251.26213303])"
      ]
     },
     "execution_count": 11,
     "metadata": {},
     "output_type": "execute_result"
    }
   ],
   "source": [
    "ws.yCalc()\n",
    "ws.y.value"
   ]
  },
  {
   "cell_type": "code",
   "execution_count": 12,
   "metadata": {},
   "outputs": [
    {
     "data": {
      "text/plain": [
       "<matplotlib.legend.Legend at 0x7f19043160f0>"
      ]
     },
     "execution_count": 12,
     "metadata": {},
     "output_type": "execute_result"
    },
    {
     "data": {
      "image/png": "[encoded data removed]",
      "text/plain": [
       "<matplotlib.figure.Figure at 0x7f1905031a20>"
      ]
     },
     "metadata": {},
     "output_type": "display_data"
    }
   ],
   "source": [
    "# now change the initial VMR field for water vapor\n",
    "if not \"apriori_h2o\" in globals().keys():\n",
    "    apriori_h2o = np.array(ws.vmr_field)[0,:,0,0]\n",
    "np.asarray(ws.vmr_field)[0,:,0,0] = apriori_h2o * 1.16\n",
    "perturbed = np.copy(ws.vmr_field)[0,:,0,0]\n",
    "\n",
    "plt.plot(apriori_h2o.ravel(), np.asarray(ws.z_field).ravel() * 1e-3, label=\"A Priori\")\n",
    "plt.plot(ws.vmr_field.value[0,:,0,0], np.asarray(ws.z_field).ravel() * 1e-3, label=\"Perturbed\")\n",
    "plt.xlabel(\"$H_2O [kg / m^3$]\")\n",
    "plt.ylabel(\"z [km]\")\n",
    "plt.legend()\n"
   ]
  },
  {
   "cell_type": "markdown",
   "metadata": {},
   "source": [
    "# Set up OEM retrieval"
   ]
  },
  {
   "cell_type": "code",
   "execution_count": 13,
   "metadata": {},
   "outputs": [],
   "source": [
    "ws.retrievalDefInit()\n",
    "#ws.VectorCreate( ret_vars ) \n",
    "nelem = ws.p_grid.value.size\n",
    "rvars = np.ones(nelem)*1e1   # define apriori variances of retrieved variables\n",
    "ws.covmatSetDiagonal(rvars)\n",
    "ws.retrievalAddAbsSpecies(\n",
    " species=\"H2O-PWR98\",\n",
    " unit=\"logrel\",\n",
    " g1=ws.p_grid,\n",
    " g2=ws.lat_grid,\n",
    " g3=ws.lon_grid\n",
    ")\n",
    "se_cov = np.zeros(ws.y.value.size) + 0.5**2 # set channel assumed errors\n",
    "ws.covmatSetDiagonal(se_cov)\n",
    "ws.covmat_seSet()\n",
    "ws.retrievalDefClose()\n",
    "\n",
    "\n",
    "@arts_agenda\n",
    "def inversion_iterate_agenda(ws):\n",
    "    ws.x2artsStandard()  # map x to ARTS's variables\n",
    "    ws.atmfields_checkedCalc()  # to be safe, rerun checks dealing with atmosph.\n",
    "    ws.atmgeom_checkedCalc()\n",
    "    ws.yCalc()  # calculate yf and jacobian matching x\n",
    "    ws.VectorAddVector( ws.yf, ws.y, ws.y_baseline )  # add baseline term\n",
    "    ws.jacobianAdjustAfterIteration() \n",
    "    \n",
    "ws.Copy(ws.inversion_iterate_agenda, inversion_iterate_agenda)\n",
    "    # last line takes care of some fixes needed to get the jacobian right for iterative solutions\n",
    "    \n",
    "#ws.Copy(ws.inversion_iterate_agenda, inversion_iterate_agenda)\n",
    "ws.xaStandard()\n",
    "ws.Copy(ws.x, ws.xa)\n",
    "x = np.array([])\n",
    "yf= np.array([])\n",
    "ws.jacobian = np.array([[]])"
   ]
  },
  {
   "cell_type": "code",
   "execution_count": 14,
   "metadata": {},
   "outputs": [],
   "source": [
    "\n",
    "ws.OEM(method=\"lm\",\n",
    "    max_iter=1000,\n",
    "    display_progress=1,\n",
    "    max_start_cost=1e3,\n",
    "    lm_ga_settings=np.array([10.0,2.0,2.0,100.0,1.0,99.0])\n",
    "       )\n"
   ]
  },
  {
   "cell_type": "code",
   "execution_count": 15,
   "metadata": {},
   "outputs": [],
   "source": [
    "ws.x2artsStandard()\n"
   ]
  },
  {
   "cell_type": "code",
   "execution_count": 16,
   "metadata": {},
   "outputs": [
    {
     "data": {
      "text/plain": [
       "array([  2.92547533e-02,   2.17831088e-02,   1.61270156e-02,\n",
       "         8.86978471e-03,   4.87363549e-03,   3.60915743e-03,\n",
       "         2.31001653e-03,   1.45490775e-03,   9.02213433e-04,\n",
       "         5.37961022e-04,   2.94184043e-04,   1.45866937e-04,\n",
       "         6.55273939e-05,   2.96289693e-05,   1.24967538e-05,\n",
       "         8.33046432e-06,   5.96917635e-06,   4.40766555e-06,\n",
       "         3.59492373e-06,   3.41078389e-06])"
      ]
     },
     "execution_count": 16,
     "metadata": {},
     "output_type": "execute_result"
    }
   ],
   "source": [
    "perturbed"
   ]
  },
  {
   "cell_type": "code",
   "execution_count": 17,
   "metadata": {},
   "outputs": [
    {
     "data": {
      "text/plain": [
       "array([  2.52196149e-02,   1.87785420e-02,   1.39025997e-02,\n",
       "         7.64636613e-03,   4.20140990e-03,   3.11134261e-03,\n",
       "         1.99139356e-03,   1.25423082e-03,   7.77770201e-04,\n",
       "         4.63759502e-04,   2.53606934e-04,   1.25747359e-04,\n",
       "         5.64891326e-05,   2.55422149e-05,   1.07730636e-05,\n",
       "         7.18143476e-06,   5.14584168e-06,   3.79971168e-06,\n",
       "         3.09907218e-06,   2.94033094e-06])"
      ]
     },
     "execution_count": 17,
     "metadata": {},
     "output_type": "execute_result"
    }
   ],
   "source": [
    "apriori_h2o"
   ]
  },
  {
   "cell_type": "code",
   "execution_count": 18,
   "metadata": {
    "collapsed": true
   },
   "outputs": [],
   "source": [
    "retrieved = np.copy(ws.vmr_field)[0,:,0,0]"
   ]
  },
  {
   "cell_type": "code",
   "execution_count": 19,
   "metadata": {},
   "outputs": [
    {
     "data": {
      "text/plain": [
       "array([  2.92434646e-02,   2.15822304e-02,   1.54664845e-02,\n",
       "         8.16090947e-03,   4.31341183e-03,   3.08099643e-03,\n",
       "         1.93378220e-03,   1.20564146e-03,   7.51343496e-04,\n",
       "         4.59557590e-04,   2.62029230e-04,   1.35806396e-04,\n",
       "         6.30854466e-05,   2.90920293e-05,   1.23917454e-05,\n",
       "         8.28804228e-06,   5.94880167e-06,   4.39716008e-06,\n",
       "         3.58836467e-06,   3.40808394e-06])"
      ]
     },
     "execution_count": 19,
     "metadata": {},
     "output_type": "execute_result"
    }
   ],
   "source": [
    "retrieved"
   ]
  },
  {
   "cell_type": "markdown",
   "metadata": {},
   "source": [
    "# look at result"
   ]
  },
  {
   "cell_type": "code",
   "execution_count": 20,
   "metadata": {},
   "outputs": [
    {
     "data": {
      "text/plain": [
       "<matplotlib.legend.Legend at 0x7f1904221b38>"
      ]
     },
     "execution_count": 20,
     "metadata": {},
     "output_type": "execute_result"
    },
    {
     "data": {
      "image/png": "[encoded data removed]",
      "text/plain": [
       "<matplotlib.figure.Figure at 0x7f1904fa6860>"
      ]
     },
     "metadata": {},
     "output_type": "display_data"
    }
   ],
   "source": [
    "plt.plot(apriori_h2o, np.asarray(ws.z_field).ravel() * 1e-3, label=\"A Priori\")\n",
    "plt.plot(retrieved, np.asarray(ws.z_field).ravel() * 1e-3, label=\"Retrieved\")\n",
    "plt.plot(perturbed, np.asarray(ws.z_field).ravel() * 1e-3, label=\"Perturbed\")\n",
    "plt.xlabel(\"$H_2O [kg / m^3$]\")\n",
    "plt.ylabel(\"z [km]\")\n",
    "#plt.xscale(\"log\")\n",
    "plt.legend()"
   ]
  },
  {
   "cell_type": "code",
   "execution_count": 21,
   "metadata": {},
   "outputs": [
    {
     "data": {
      "text/plain": [
       "array([ 277.07307601,  270.72121556,  264.62464578,  257.43588112,\n",
       "        251.26213303])"
      ]
     },
     "execution_count": 21,
     "metadata": {},
     "output_type": "execute_result"
    }
   ],
   "source": [
    "ws.y.value"
   ]
  },
  {
   "cell_type": "code",
   "execution_count": 22,
   "metadata": {},
   "outputs": [
    {
     "data": {
      "text/plain": [
       "array([[[   113.45732634]],\n",
       "\n",
       "       [[  1174.69850948]],\n",
       "\n",
       "       [[  2214.78098534]],\n",
       "\n",
       "       [[  3230.62837179]],\n",
       "\n",
       "       [[  4220.95953904]],\n",
       "\n",
       "       [[  5190.62814644]],\n",
       "\n",
       "       [[  6137.29444559]],\n",
       "\n",
       "       [[  7067.33347732]],\n",
       "\n",
       "       [[  7974.90050499]],\n",
       "\n",
       "       [[  8848.74773843]],\n",
       "\n",
       "       [[  9715.30139927]],\n",
       "\n",
       "       [[ 10554.63973443]],\n",
       "\n",
       "       [[ 11377.43937982]],\n",
       "\n",
       "       [[ 12184.31355103]],\n",
       "\n",
       "       [[ 12954.81499947]],\n",
       "\n",
       "       [[ 13740.06643887]],\n",
       "\n",
       "       [[ 14485.58976639]],\n",
       "\n",
       "       [[ 15203.46285089]],\n",
       "\n",
       "       [[ 15902.87697463]],\n",
       "\n",
       "       [[ 16615.94036481]]])"
      ]
     },
     "execution_count": 22,
     "metadata": {},
     "output_type": "execute_result"
    }
   ],
   "source": [
    "ws.z_field.value"
   ]
  },
  {
   "cell_type": "code",
   "execution_count": 23,
   "metadata": {},
   "outputs": [
    {
     "data": {
      "text/plain": [
       "<matplotlib.image.AxesImage at 0x7f1904189748>"
      ]
     },
     "execution_count": 23,
     "metadata": {},
     "output_type": "execute_result"
    },
    {
     "data": {
      "image/png": "[encoded data removed]",
      "text/plain": [
       "<matplotlib.figure.Figure at 0x7f190419fdd8>"
      ]
     },
     "metadata": {},
     "output_type": "display_data"
    }
   ],
   "source": [
    "plt.imshow(ws.jacobian)"
   ]
  },
  {
   "cell_type": "code",
   "execution_count": null,
   "metadata": {
    "collapsed": true
   },
   "outputs": [],
   "source": []
  }
 ],
 "metadata": {
  "kernelspec": {
   "display_name": "Python 3",
   "language": "python",
   "name": "python3"
  },
  "language_info": {
   "codemirror_mode": {
    "name": "ipython",
    "version": 3
   },
   "file_extension": ".py",
   "mimetype": "text/x-python",
   "name": "python",
   "nbconvert_exporter": "python",
   "pygments_lexer": "ipython3",
   "version": "3.6.1"
  }
 },
 "nbformat": 4,
 "nbformat_minor": 2
}
