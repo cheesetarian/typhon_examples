{
 "cells": [
  {
   "cell_type": "markdown",
   "metadata": {},
   "source": [
    "# Set up ARTS/Python environment\n"
   ]
  },
  {
   "cell_type": "code",
   "execution_count": 1,
   "metadata": {},
   "outputs": [
    {
     "name": "stdout",
     "output_type": "stream",
     "text": [
      "env: ARTS_INCLUDE_PATH=/home/dudavid/arts/controlfiles/\n",
      "env: ARTS_DATA_PATH=/home/dudavid/arts/arts-xml/\n",
      "env: ARTS_BUILD_PATH=/home/dudavid/arts/build/\n",
      "Loading ARTS API from: /home/dudavid/arts/build//src/arts_api.so\n"
     ]
    }
   ],
   "source": [
    "%env ARTS_INCLUDE_PATH=/home/dudavid/arts/controlfiles/\n",
    "%env ARTS_DATA_PATH=/home/dudavid/arts/arts-xml/\n",
    "%env ARTS_BUILD_PATH=/home/dudavid/arts/build/\n",
    "\n",
    "%matplotlib inline\n",
    "import numpy as np\n",
    "import matplotlib.pyplot as plt\n",
    "\n",
    "from typhon.arts.workspace import Workspace, arts_agenda\n",
    "ws = Workspace()\n",
    "ws.execute_controlfile(\"general/general.arts\")\n",
    "ws.execute_controlfile(\"general/continua.arts\")\n",
    "ws.execute_controlfile(\"general/agendas.arts\")\n",
    "ws.execute_controlfile(\"general/planet_earth.arts\")"
   ]
  },
  {
   "cell_type": "code",
   "execution_count": 2,
   "metadata": {
    "collapsed": true
   },
   "outputs": [],
   "source": [
    "# define absorbing species and sensor (here using metmm library, used again below)\n",
    "ws.Copy(ws.abs_xsec_agenda, ws.abs_xsec_agenda__noCIA)\n",
    "ws.abs_speciesSet(species=[\"H2O-PWR98\",\"O2-PWR93\",\"N2-SelfContStandardType\"])\n",
    "ws.ReadXML( ws.abs_lines, \"instruments/metmm/abs_lines_metmm.xml.gz\")\n",
    "ws.abs_lines_per_speciesCreateFromLines()"
   ]
  },
  {
   "cell_type": "markdown",
   "metadata": {},
   "source": [
    "# General Settings"
   ]
  },
  {
   "cell_type": "code",
   "execution_count": 3,
   "metadata": {
    "collapsed": true
   },
   "outputs": [],
   "source": [
    "ws.stokes_dim = 1\n",
    "ws.iy_unit = \"PlanckBT\"\n",
    "ws.cloudboxOff()"
   ]
  },
  {
   "cell_type": "markdown",
   "metadata": {
    "collapsed": true
   },
   "source": [
    "# Atmosphere set up"
   ]
  },
  {
   "cell_type": "code",
   "execution_count": 4,
   "metadata": {},
   "outputs": [
    {
     "data": {
      "text/plain": [
       "<matplotlib.text.Text at 0x7fe8a1422b38>"
      ]
     },
     "execution_count": 4,
     "metadata": {},
     "output_type": "execute_result"
    },
    {
     "data": {
      "image/png": "[encoded data removed]",
      "text/plain": [
       "<matplotlib.figure.Figure at 0x7fe8eca302e8>"
      ]
     },
     "metadata": {},
     "output_type": "display_data"
    }
   ],
   "source": [
    "ws.atmosphere_dim = 1  # for 1DVAR\n",
    "ws.VectorNLogSpace( ws.p_grid, 20, 1e5, 1e4 ) # 20 levels from 1000 to 100 hPa\n",
    "ws.AtmRawRead( basename = \"planets/Earth/Fascod/tropical/tropical\") #tropical atmosphere assumed\n",
    "ws.AtmFieldsCalc()\n",
    "ws.AbsInputFromAtmFields()\n",
    "\n",
    "ws.z_surface = np.asarray(ws.z_field)[0]\n",
    "ws.t_surface = np.asarray(ws.t_field)[0]\n",
    "\n",
    "# plot T, water vapor, N2 and O2 versus altitude\n",
    "#plt.plot(np.asarray(ws.t_field).ravel(), np.asarray(ws.z_field).ravel() * 1e-3)\n",
    "#plt.xlabel(\"T [K]\")\n",
    "#plt.ylabel(\"z [km]\")\n",
    "plt.plot(np.asarray(ws.vmr_field)[0,:,0,0], np.asarray(ws.z_field).ravel() * 1e-3)\n",
    "plt.xlabel(\"$H_2O VMR [mol/mol$]\")\n",
    "plt.ylabel(\"z [km]\")\n",
    "#plt.plot(np.asarray(ws.vmr_field)[1,:,0,0], np.asarray(ws.z_field).ravel() * 1e-3, label=\"$O_2$\")\n",
    "#plt.plot(np.asarray(ws.vmr_field)[2,:,0,0], np.asarray(ws.z_field).ravel() * 1e-3, label=\"$N_2$\")\n",
    "#plt.xlabel(\"vmr [mol / mol]\")\n",
    "#plt.ylabel(\"z [km]\")\n",
    "#plt.legend()"
   ]
  },
  {
   "cell_type": "markdown",
   "metadata": {},
   "source": [
    "# Sensor definition"
   ]
  },
  {
   "cell_type": "code",
   "execution_count": 5,
   "metadata": {
    "collapsed": true
   },
   "outputs": [],
   "source": [
    "ws.ArrayOfIndexCreate(\"channels\")\n",
    "ws.channels = [17,18,19,20,21] # channel index values given in metmm sensor description\n",
    "ws.ArrayOfIndexCreate(\"viewing_angles\")\n",
    "ws.viewing_angles = [47] # index of stored viewing angles in metmm file\n",
    "\n",
    "ws.sensor_pos  = np.array([[850e3]]) # 850km\n",
    "ws.sensor_time = np.array([0.0])\n",
    "ws.sensor_los  = np.array([[180.0]]) # nadir viewing\n",
    "\n",
    "ws.IndexCreate(\"met_mm_accuracy\") \n",
    "ws.met_mm_accuracy = 1 # points within each bandwidth to comute abs characteristics\n",
    "\n",
    "ws.execute_controlfile(\"instruments/metmm/sensor_descriptions/prepare_metmm.arts\")\n",
    "ws.execute_controlfile(\"instruments/metmm/sensor_descriptions/sensor_atms.arts\")\n",
    "ws.execute_controlfile(\"instruments/metmm/sensor_descriptions/apply_metmm.arts\")\n",
    "ws.execute_controlfile(\"instruments/metmm/common_metmm.arts\")"
   ]
  },
  {
   "cell_type": "code",
   "execution_count": 6,
   "metadata": {},
   "outputs": [],
   "source": [
    "ws.atmfields_checkedCalc( bad_partition_functions_ok = 1 )\n",
    "ws.abs_xsec_agenda_checkedCalc()\n",
    "ws.abs_lookupSetup()\n",
    "ws.abs_lookupCalc()"
   ]
  },
  {
   "cell_type": "markdown",
   "metadata": {},
   "source": [
    "# Surface \n"
   ]
  },
  {
   "cell_type": "code",
   "execution_count": 7,
   "metadata": {
    "collapsed": true
   },
   "outputs": [],
   "source": [
    "ws.surface_scalar_reflectivity = np.array([0.5]) # nominal albedo for surface\n",
    "ws.propmat_clearsky_agenda_checkedCalc()\n",
    "ws.atmgeom_checkedCalc()\n",
    "ws.cloudbox_checkedCalc()\n",
    "ws.sensor_checkedCalc()\n",
    "ws.jacobianOff()"
   ]
  },
  {
   "cell_type": "markdown",
   "metadata": {},
   "source": [
    "# Call forward model"
   ]
  },
  {
   "cell_type": "code",
   "execution_count": 8,
   "metadata": {},
   "outputs": [
    {
     "data": {
      "text/plain": [
       "array([ 277.07307601,  270.72121556,  264.62464578,  257.43588112,\n",
       "        251.26213303])"
      ]
     },
     "execution_count": 8,
     "metadata": {},
     "output_type": "execute_result"
    }
   ],
   "source": [
    "ws.yCalc()\n",
    "ws.y.value # write out TBs for first ycalc"
   ]
  },
  {
   "cell_type": "code",
   "execution_count": 9,
   "metadata": {},
   "outputs": [
    {
     "data": {
      "text/plain": [
       "<matplotlib.legend.Legend at 0x7fe8a004df98>"
      ]
     },
     "execution_count": 9,
     "metadata": {},
     "output_type": "execute_result"
    },
    {
     "data": {
      "image/png": "[encoded data removed]",
      "text/plain": [
       "<matplotlib.figure.Figure at 0x7fe8a10fe518>"
      ]
     },
     "metadata": {},
     "output_type": "display_data"
    }
   ],
   "source": [
    "# now perturb the initial VMR field for water vapor\n",
    "if not \"orig_h2o\" in globals().keys():\n",
    "    orig_h2o = np.array(ws.vmr_field)[0,:,0,0] # save original WV profile (true state)\n",
    "np.asarray(ws.vmr_field)[0,:,0,0] = orig_h2o * 1.19 # perturb by x% at all layers\n",
    "perturbed = np.copy(ws.vmr_field)[0,:,0,0] # save as 'perturbed' -- will form apriori state\n",
    "\n",
    "plt.plot(orig_h2o.ravel(), np.asarray(ws.z_field).ravel() * 1e-3, label=\"True state\")\n",
    "plt.plot(ws.vmr_field.value[0,:,0,0], np.asarray(ws.z_field).ravel() * 1e-3, label=\"Perturbed (Prior)\")\n",
    "plt.xlabel(\"$H_2O [kg / m^3$]\")\n",
    "plt.ylabel(\"z [km]\")\n",
    "plt.legend()"
   ]
  },
  {
   "cell_type": "markdown",
   "metadata": {},
   "source": [
    "# Set up OEM retrieval"
   ]
  },
  {
   "cell_type": "code",
   "execution_count": 10,
   "metadata": {},
   "outputs": [],
   "source": [
    "ws.retrievalDefInit()\n",
    "nelem = ws.p_grid.value.size\n",
    "rvars = np.ones(nelem)*1e1   # define apriori variances of retrieved variables\n",
    "ws.covmatSetDiagonal(rvars)\n",
    "ws.retrievalAddAbsSpecies(   # only retrieval variable is abs species, water vapor\n",
    " species=\"H2O-PWR98\",\n",
    " unit=\"logrel\",\n",
    " g1=ws.p_grid,\n",
    " g2=ws.lat_grid,\n",
    " g3=ws.lon_grid\n",
    ")\n",
    "se_cov = np.zeros(ws.y.value.size) + 0.5**2 # set channel assumed errors\n",
    "ws.covmatSetDiagonal(se_cov) # diagonal (uncorrelated) errors only for now\n",
    "ws.covmat_seSet()\n",
    "ws.retrievalDefClose()\n",
    "\n",
    "# define inversion iteration as function within python\n",
    "@arts_agenda\n",
    "def inversion_iterate_agenda(ws):\n",
    "    ws.x2artsStandard()  # map x to ARTS's variables\n",
    "    ws.atmfields_checkedCalc()  # to be safe, rerun checks dealing with atmosph.\n",
    "    ws.atmgeom_checkedCalc()\n",
    "    ws.yCalc()  # calculate yf and jacobian matching x\n",
    "    ws.VectorAddVector( ws.yf, ws.y, ws.y_baseline )  # add baseline term\n",
    "    ws.jacobianAdjustAfterIteration() \n",
    "    # last line takes care of some fixes needed to get the jacobian right for iterative solutions\n",
    "    \n",
    "ws.Copy(ws.inversion_iterate_agenda, inversion_iterate_agenda) # copy python function to arts\n",
    "    \n",
    "ws.xaStandard() # set xa to vmr field, effectively \n",
    "#ws.xa = [] # if supplying user-defined a priori vector\n",
    "x = np.array([]) # create empty vector for retrieved state vector?\n",
    "yf= np.array([]) # create empty vector for simulated TB?\n",
    "ws.jacobian = np.array([[]])"
   ]
  },
  {
   "cell_type": "markdown",
   "metadata": {},
   "source": [
    "# Run OEM retrieval"
   ]
  },
  {
   "cell_type": "code",
   "execution_count": 11,
   "metadata": {
    "collapsed": true
   },
   "outputs": [],
   "source": [
    "ws.OEM(method=\"lm\",\n",
    "    max_iter=1000,\n",
    "    display_progress=1,\n",
    "    max_start_cost=1e3,\n",
    "    lm_ga_settings=np.array([10.0,2.0,2.0,100.0,1.0,99.0])\n",
    "       )\n",
    "ws.x2artsStandard() # convert from ARTS coords back to user-defined grid"
   ]
  },
  {
   "cell_type": "code",
   "execution_count": 12,
   "metadata": {
    "collapsed": true
   },
   "outputs": [],
   "source": [
    "# save resultant WV profile to 'retrieved'\n",
    "retrieved = np.copy(ws.vmr_field)[0,:,0,0]"
   ]
  },
  {
   "cell_type": "markdown",
   "metadata": {},
   "source": [
    "# Look at results"
   ]
  },
  {
   "cell_type": "code",
   "execution_count": 13,
   "metadata": {},
   "outputs": [
    {
     "data": {
      "text/plain": [
       "<matplotlib.legend.Legend at 0x7fe89b352b00>"
      ]
     },
     "execution_count": 13,
     "metadata": {},
     "output_type": "execute_result"
    },
    {
     "data": {
      "image/png": "[encoded data removed]",
      "text/plain": [
       "<matplotlib.figure.Figure at 0x7fe8a11cd6a0>"
      ]
     },
     "metadata": {},
     "output_type": "display_data"
    }
   ],
   "source": [
    "plt.plot(orig_h2o, np.asarray(ws.z_field).ravel() * 1e-3, label=\"Truth\")\n",
    "plt.plot(retrieved, np.asarray(ws.z_field).ravel() * 1e-3, label=\"Retrieved\")\n",
    "plt.plot(perturbed, np.asarray(ws.z_field).ravel() * 1e-3, label=\"A Priori\")\n",
    "plt.xlabel(\"$H_2O [kg / m^3$]\")\n",
    "plt.ylabel(\"z [km]\")\n",
    "#plt.xscale(\"log\")\n",
    "plt.legend()"
   ]
  },
  {
   "cell_type": "code",
   "execution_count": 14,
   "metadata": {},
   "outputs": [
    {
     "data": {
      "text/plain": [
       "array([ 0.11111294, -0.02400096, -0.08012057, -0.04544691,  0.08663361])"
      ]
     },
     "execution_count": 14,
     "metadata": {},
     "output_type": "execute_result"
    }
   ],
   "source": [
    "# compare simulated and 'observed' TB from \n",
    "residual = ws.y.value - ws.yf.value\n",
    "residual "
   ]
  },
  {
   "cell_type": "code",
   "execution_count": 15,
   "metadata": {},
   "outputs": [
    {
     "data": {
      "text/plain": [
       "<matplotlib.colorbar.Colorbar at 0x7fe89b2eeb70>"
      ]
     },
     "execution_count": 15,
     "metadata": {},
     "output_type": "execute_result"
    },
    {
     "data": {
      "image/png": "[encoded data removed]",
      "text/plain": [
       "<matplotlib.figure.Figure at 0x7fe8a0061eb8>"
      ]
     },
     "metadata": {},
     "output_type": "display_data"
    }
   ],
   "source": [
    "# plot jacobian -- should show sensitivity in middle troposphere\n",
    "plt.imshow(ws.jacobian)\n",
    "plt.colorbar()"
   ]
  },
  {
   "cell_type": "code",
   "execution_count": 16,
   "metadata": {},
   "outputs": [
    {
     "data": {
      "text/plain": [
       "3.8314741413074103"
      ]
     },
     "execution_count": 16,
     "metadata": {},
     "output_type": "execute_result"
    },
    {
     "data": {
      "image/png": "[encoded data removed]",
      "text/plain": [
       "<matplotlib.figure.Figure at 0x7fe89b22b080>"
      ]
     },
     "metadata": {},
     "output_type": "display_data"
    }
   ],
   "source": [
    "ws.avkCalc() # calculate averaging kernel (A-matrix)\n",
    "plt.matshow(ws.avk)\n",
    "plt.colorbar()\n",
    "np.diag(ws.avk)\n",
    "sum(np.diag(ws.avk)) # print trace of A-matrix, aka degrees of freedom for signal (DFS)"
   ]
  },
  {
   "cell_type": "code",
   "execution_count": 17,
   "metadata": {},
   "outputs": [],
   "source": [
    "# calculate posterior covariance matrices of observations and a priori\n",
    "ws.covmat_soCalc() # observation covariance matrix\n",
    "ws.covmat_ssCalc() # smoothing covariance matrix"
   ]
  },
  {
   "cell_type": "code",
   "execution_count": 18,
   "metadata": {},
   "outputs": [
    {
     "data": {
      "text/plain": [
       "<matplotlib.colorbar.Colorbar at 0x7fe89b054630>"
      ]
     },
     "execution_count": 18,
     "metadata": {},
     "output_type": "execute_result"
    },
    {
     "data": {
      "image/png": "[encoded data removed]",
      "text/plain": [
       "<matplotlib.figure.Figure at 0x7fe89b0c5f28>"
      ]
     },
     "metadata": {},
     "output_type": "display_data"
    }
   ],
   "source": [
    "# plot posterior observation covariance matrix\n",
    "plt.matshow(ws.covmat_so)\n",
    "plt.colorbar()"
   ]
  },
  {
   "cell_type": "code",
   "execution_count": null,
   "metadata": {
    "collapsed": true
   },
   "outputs": [],
   "source": []
  }
 ],
 "metadata": {
  "kernelspec": {
   "display_name": "Python 3",
   "language": "python",
   "name": "python3"
  },
  "language_info": {
   "codemirror_mode": {
    "name": "ipython",
    "version": 3
   },
   "file_extension": ".py",
   "mimetype": "text/x-python",
   "name": "python",
   "nbconvert_exporter": "python",
   "pygments_lexer": "ipython3",
   "version": "3.6.1"
  }
 },
 "nbformat": 4,
 "nbformat_minor": 2
}
