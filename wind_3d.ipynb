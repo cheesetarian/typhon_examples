{
 "cells": [
  {
   "cell_type": "markdown",
   "metadata": {},
   "source": [
    "# 3D Wind Retrievals"
   ]
  },
  {
   "cell_type": "code",
   "execution_count": 6,
   "metadata": {},
   "outputs": [
    {
     "name": "stdout",
     "output_type": "stream",
     "text": [
      "env: ARTS_INCLUDE_PATH=/home/simon/src/arts_clean/controlfiles/\n",
      "env: ARTS_DATA_PATH=/home/simon/src/arts_xml/\n",
      "env: ARTS_BUILD_PATH=/home/simon/build/arts_production/arts\n"
     ]
    }
   ],
   "source": [
    "%env ARTS_INCLUDE_PATH=/home/simon/src/arts_clean/controlfiles/\n",
    "%env ARTS_DATA_PATH=/home/simon/src/arts_xml/\n",
    "%env ARTS_BUILD_PATH=/home/simon/build/arts_production/arts\n",
    "\n",
    "%matplotlib inline\n",
    "import numpy as np\n",
    "import matplotlib.pyplot as plt\n",
    "\n",
    "from typhon.arts.workspace import Workspace"
   ]
  },
  {
   "cell_type": "markdown",
   "metadata": {},
   "source": [
    "This notebook is essentially a transcript of the `qpack_wind3d_demo.m` script which uses a\n",
    "three-dimensional atmosphere to retrieve wind speeds."
   ]
  },
  {
   "cell_type": "code",
   "execution_count": 7,
   "metadata": {
    "collapsed": true
   },
   "outputs": [],
   "source": [
    "ws = Workspace()\n",
    "\n",
    "ws.execute_controlfile(\"general/general.arts\")\n",
    "ws.execute_controlfile(\"general/agendas.arts\")\n",
    "ws.execute_controlfile(\"general/continua.arts\")\n",
    "ws.execute_controlfile(\"general/planet_earth.arts\")\n",
    "\n",
    "ws.Copy(ws.ppath_agenda,      ws.ppath_agenda__FollowSensorLosPath)\n",
    "ws.Copy(ws.ppath_step_agenda, ws.ppath_step_agenda__GeometricPath)\n",
    "ws.Copy(ws.iy_space_agenda,   ws.iy_space_agenda__CosmicBackground)\n",
    "ws.Copy(ws.iy_surface_agenda, ws.iy_surface_agenda__UseSurfaceRtprop)\n",
    "ws.Copy(ws.iy_main_agenda,    ws.iy_main_agenda__Emission)"
   ]
  },
  {
   "cell_type": "markdown",
   "metadata": {},
   "source": [
    "## General Settings\n",
    "\n",
    "For the wind retrievals, the forward model calculations are performed on a 3D atmosphere grid.\n",
    "Radiation is assumed to be unpolarized."
   ]
  },
  {
   "cell_type": "code",
   "execution_count": 8,
   "metadata": {
    "collapsed": true
   },
   "outputs": [],
   "source": [
    "ws.atmosphere_dim = 3\n",
    "ws.stokes_dim     = 1\n",
    "ws.iy_unit = \"RJBT\""
   ]
  },
  {
   "cell_type": "markdown",
   "metadata": {},
   "source": [
    "## Absorption\n",
    "\n",
    "We only consider absorption from ozone in this example. The lineshape data is available from\n",
    "the ARTS testdata available in `controlfiles/testdata`."
   ]
  },
  {
   "cell_type": "code",
   "execution_count": 9,
   "metadata": {
    "collapsed": true
   },
   "outputs": [],
   "source": [
    "ws.abs_speciesSet([\"O3\"])\n",
    "ws.abs_lineshapeDefine(\"Voigt_Kuntz6\", \"VVH\", 750e9)\n",
    "ws.ReadXML(ws.abs_lines, \"testdata/ozone_line.xml\")\n",
    "ws.abs_lines_per_speciesCreateFromLines()"
   ]
  },
  {
   "cell_type": "markdown",
   "metadata": {},
   "source": [
    "## Atmosphere (A Priori)"
   ]
  },
  {
   "cell_type": "code",
   "execution_count": 12,
   "metadata": {
    "collapsed": true
   },
   "outputs": [],
   "source": [
    "z_toa  = 95e3;\n",
    "z_surf = 1e3;\n",
    "ws.PFromZSimple(ws.p_grid, np.arange(z_surf - 1e3, z_toa, 2e3))"
   ]
  },
  {
   "cell_type": "markdown",
   "metadata": {},
   "source": [
    "## Frequency Grid and Sensor\n",
    "\n",
    "The frequency grid for the simulation consists of 119 grid\n",
    "points between 110.516 and 111.156 GHz. The frequencies\n",
    "are given by a degree-10 polynomial that has been obtained from a fit to the data from the original `qpack` example. This is obscure but also kind of cool."
   ]
  },
  {
   "cell_type": "code",
   "execution_count": 17,
   "metadata": {},
   "outputs": [
    {
     "data": {
      "text/plain": [
       "<matplotlib.text.Text at 0x7f3864b57d30>"
      ]
     },
     "execution_count": 17,
     "metadata": {},
     "output_type": "execute_result"
    },
    {
     "data": {
      "image/png": "[encoded data removed]",
      "text/plain": [
       "<matplotlib.figure.Figure at 0x7f38672c1240>"
      ]
     },
     "metadata": {},
     "output_type": "display_data"
    }
   ],
   "source": [
    "coeffs = np.array([5.06312189e-08, -2.68851772e-05, 6.20655463e-03,\n",
    "                   -8.16344090e-01,   6.75337174e+01,  -3.66786505e+03,\n",
    "                   1.32578167e+05,  -3.14514304e+06,   4.57491354e+07,\n",
    "                   1.10516484e+11])\n",
    "ws.f_grid = np.poly1d(coeffs)(np.arange(119))\n",
    "\n",
    "plt.plot(ws.f_grid.value() * 1e-9)\n",
    "plt.xlabel(\"Channel Number\")\n",
    "plt.ylabel(\"Frequency [GHz]\")\n",
    "\n"
   ]
  },
  {
   "cell_type": "markdown",
   "metadata": {},
   "source": [
    "For the sensor we assume a channel width and channel spacing of 0.05 kHz."
   ]
  },
  {
   "cell_type": "code",
   "execution_count": 14,
   "metadata": {
    "collapsed": true
   },
   "outputs": [],
   "source": [
    "df = 0.05e6\n",
    "f_backend = np.arange(f_grid.min() + df, f_grid.max() -df, df)"
   ]
  }
 ],
 "metadata": {
  "kernelspec": {
   "display_name": "Python 3",
   "language": "python",
   "name": "python3"
  },
  "language_info": {
   "codemirror_mode": {
    "name": "ipython",
    "version": 3
   },
   "file_extension": ".py",
   "mimetype": "text/x-python",
   "name": "python",
   "nbconvert_exporter": "python",
   "pygments_lexer": "ipython3",
   "version": "3.6.1"
  }
 },
 "nbformat": 4,
 "nbformat_minor": 2
}
